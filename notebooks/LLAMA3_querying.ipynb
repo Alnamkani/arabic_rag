{
  "nbformat": 4,
  "nbformat_minor": 0,
  "metadata": {
    "colab": {
      "provenance": []
    },
    "kernelspec": {
      "name": "python3",
      "display_name": "Python 3"
    },
    "language_info": {
      "name": "python"
    }
  },
  "cells": [
    {
      "cell_type": "code",
      "source": [
        "pip install replicate"
      ],
      "metadata": {
        "colab": {
          "base_uri": "https://localhost:8080/"
        },
        "id": "wsEbIffdGcN3",
        "outputId": "45909fba-6fc8-41a2-9e5f-f74868d67090"
      },
      "execution_count": null,
      "outputs": [
        {
          "output_type": "stream",
          "name": "stdout",
          "text": [
            "Collecting replicate\n",
            "  Downloading replicate-0.26.0-py3-none-any.whl (40 kB)\n",
            "\u001b[2K     \u001b[90m━━━━━━━━━━━━━━━━━━━━━━━━━━━━━━━━━━━━━━━━\u001b[0m \u001b[32m40.0/40.0 kB\u001b[0m \u001b[31m1.0 MB/s\u001b[0m eta \u001b[36m0:00:00\u001b[0m\n",
            "\u001b[?25hCollecting httpx<1,>=0.21.0 (from replicate)\n",
            "  Downloading httpx-0.27.0-py3-none-any.whl (75 kB)\n",
            "\u001b[2K     \u001b[90m━━━━━━━━━━━━━━━━━━━━━━━━━━━━━━━━━━━━━━━━\u001b[0m \u001b[32m75.6/75.6 kB\u001b[0m \u001b[31m5.1 MB/s\u001b[0m eta \u001b[36m0:00:00\u001b[0m\n",
            "\u001b[?25hRequirement already satisfied: packaging in /usr/local/lib/python3.10/dist-packages (from replicate) (24.0)\n",
            "Requirement already satisfied: pydantic>1.10.7 in /usr/local/lib/python3.10/dist-packages (from replicate) (2.7.3)\n",
            "Requirement already satisfied: typing-extensions>=4.5.0 in /usr/local/lib/python3.10/dist-packages (from replicate) (4.12.1)\n",
            "Requirement already satisfied: anyio in /usr/local/lib/python3.10/dist-packages (from httpx<1,>=0.21.0->replicate) (3.7.1)\n",
            "Requirement already satisfied: certifi in /usr/local/lib/python3.10/dist-packages (from httpx<1,>=0.21.0->replicate) (2024.6.2)\n",
            "Collecting httpcore==1.* (from httpx<1,>=0.21.0->replicate)\n",
            "  Downloading httpcore-1.0.5-py3-none-any.whl (77 kB)\n",
            "\u001b[2K     \u001b[90m━━━━━━━━━━━━━━━━━━━━━━━━━━━━━━━━━━━━━━━━\u001b[0m \u001b[32m77.9/77.9 kB\u001b[0m \u001b[31m5.4 MB/s\u001b[0m eta \u001b[36m0:00:00\u001b[0m\n",
            "\u001b[?25hRequirement already satisfied: idna in /usr/local/lib/python3.10/dist-packages (from httpx<1,>=0.21.0->replicate) (3.7)\n",
            "Requirement already satisfied: sniffio in /usr/local/lib/python3.10/dist-packages (from httpx<1,>=0.21.0->replicate) (1.3.1)\n",
            "Collecting h11<0.15,>=0.13 (from httpcore==1.*->httpx<1,>=0.21.0->replicate)\n",
            "  Downloading h11-0.14.0-py3-none-any.whl (58 kB)\n",
            "\u001b[2K     \u001b[90m━━━━━━━━━━━━━━━━━━━━━━━━━━━━━━━━━━━━━━━━\u001b[0m \u001b[32m58.3/58.3 kB\u001b[0m \u001b[31m4.5 MB/s\u001b[0m eta \u001b[36m0:00:00\u001b[0m\n",
            "\u001b[?25hRequirement already satisfied: annotated-types>=0.4.0 in /usr/local/lib/python3.10/dist-packages (from pydantic>1.10.7->replicate) (0.7.0)\n",
            "Requirement already satisfied: pydantic-core==2.18.4 in /usr/local/lib/python3.10/dist-packages (from pydantic>1.10.7->replicate) (2.18.4)\n",
            "Requirement already satisfied: exceptiongroup in /usr/local/lib/python3.10/dist-packages (from anyio->httpx<1,>=0.21.0->replicate) (1.2.1)\n",
            "Installing collected packages: h11, httpcore, httpx, replicate\n",
            "Successfully installed h11-0.14.0 httpcore-1.0.5 httpx-0.27.0 replicate-0.26.0\n"
          ]
        }
      ]
    },
    {
      "cell_type": "code",
      "source": [
        "pip install sentence_transformers"
      ],
      "metadata": {
        "colab": {
          "base_uri": "https://localhost:8080/"
        },
        "id": "v7EDRSVkGZ2Z",
        "outputId": "4405325f-03d8-42d8-bedf-01c2105b8312"
      },
      "execution_count": null,
      "outputs": [
        {
          "output_type": "stream",
          "name": "stdout",
          "text": [
            "Collecting sentence_transformers\n",
            "  Downloading sentence_transformers-3.0.1-py3-none-any.whl (227 kB)\n",
            "\u001b[2K     \u001b[90m━━━━━━━━━━━━━━━━━━━━━━━━━━━━━━━━━━━━━━━━\u001b[0m \u001b[32m227.1/227.1 kB\u001b[0m \u001b[31m4.2 MB/s\u001b[0m eta \u001b[36m0:00:00\u001b[0m\n",
            "\u001b[?25hRequirement already satisfied: transformers<5.0.0,>=4.34.0 in /usr/local/lib/python3.10/dist-packages (from sentence_transformers) (4.41.2)\n",
            "Requirement already satisfied: tqdm in /usr/local/lib/python3.10/dist-packages (from sentence_transformers) (4.66.4)\n",
            "Requirement already satisfied: torch>=1.11.0 in /usr/local/lib/python3.10/dist-packages (from sentence_transformers) (2.3.0+cu121)\n",
            "Requirement already satisfied: numpy in /usr/local/lib/python3.10/dist-packages (from sentence_transformers) (1.25.2)\n",
            "Requirement already satisfied: scikit-learn in /usr/local/lib/python3.10/dist-packages (from sentence_transformers) (1.2.2)\n",
            "Requirement already satisfied: scipy in /usr/local/lib/python3.10/dist-packages (from sentence_transformers) (1.11.4)\n",
            "Requirement already satisfied: huggingface-hub>=0.15.1 in /usr/local/lib/python3.10/dist-packages (from sentence_transformers) (0.23.2)\n",
            "Requirement already satisfied: Pillow in /usr/local/lib/python3.10/dist-packages (from sentence_transformers) (9.4.0)\n",
            "Requirement already satisfied: filelock in /usr/local/lib/python3.10/dist-packages (from huggingface-hub>=0.15.1->sentence_transformers) (3.14.0)\n",
            "Requirement already satisfied: fsspec>=2023.5.0 in /usr/local/lib/python3.10/dist-packages (from huggingface-hub>=0.15.1->sentence_transformers) (2023.6.0)\n",
            "Requirement already satisfied: packaging>=20.9 in /usr/local/lib/python3.10/dist-packages (from huggingface-hub>=0.15.1->sentence_transformers) (24.0)\n",
            "Requirement already satisfied: pyyaml>=5.1 in /usr/local/lib/python3.10/dist-packages (from huggingface-hub>=0.15.1->sentence_transformers) (6.0.1)\n",
            "Requirement already satisfied: requests in /usr/local/lib/python3.10/dist-packages (from huggingface-hub>=0.15.1->sentence_transformers) (2.31.0)\n",
            "Requirement already satisfied: typing-extensions>=3.7.4.3 in /usr/local/lib/python3.10/dist-packages (from huggingface-hub>=0.15.1->sentence_transformers) (4.12.1)\n",
            "Requirement already satisfied: sympy in /usr/local/lib/python3.10/dist-packages (from torch>=1.11.0->sentence_transformers) (1.12.1)\n",
            "Requirement already satisfied: networkx in /usr/local/lib/python3.10/dist-packages (from torch>=1.11.0->sentence_transformers) (3.3)\n",
            "Requirement already satisfied: jinja2 in /usr/local/lib/python3.10/dist-packages (from torch>=1.11.0->sentence_transformers) (3.1.4)\n",
            "Collecting nvidia-cuda-nvrtc-cu12==12.1.105 (from torch>=1.11.0->sentence_transformers)\n",
            "  Using cached nvidia_cuda_nvrtc_cu12-12.1.105-py3-none-manylinux1_x86_64.whl (23.7 MB)\n",
            "Collecting nvidia-cuda-runtime-cu12==12.1.105 (from torch>=1.11.0->sentence_transformers)\n",
            "  Using cached nvidia_cuda_runtime_cu12-12.1.105-py3-none-manylinux1_x86_64.whl (823 kB)\n",
            "Collecting nvidia-cuda-cupti-cu12==12.1.105 (from torch>=1.11.0->sentence_transformers)\n",
            "  Using cached nvidia_cuda_cupti_cu12-12.1.105-py3-none-manylinux1_x86_64.whl (14.1 MB)\n",
            "Collecting nvidia-cudnn-cu12==8.9.2.26 (from torch>=1.11.0->sentence_transformers)\n",
            "  Using cached nvidia_cudnn_cu12-8.9.2.26-py3-none-manylinux1_x86_64.whl (731.7 MB)\n",
            "Collecting nvidia-cublas-cu12==12.1.3.1 (from torch>=1.11.0->sentence_transformers)\n",
            "  Using cached nvidia_cublas_cu12-12.1.3.1-py3-none-manylinux1_x86_64.whl (410.6 MB)\n",
            "Collecting nvidia-cufft-cu12==11.0.2.54 (from torch>=1.11.0->sentence_transformers)\n",
            "  Using cached nvidia_cufft_cu12-11.0.2.54-py3-none-manylinux1_x86_64.whl (121.6 MB)\n",
            "Collecting nvidia-curand-cu12==10.3.2.106 (from torch>=1.11.0->sentence_transformers)\n",
            "  Using cached nvidia_curand_cu12-10.3.2.106-py3-none-manylinux1_x86_64.whl (56.5 MB)\n",
            "Collecting nvidia-cusolver-cu12==11.4.5.107 (from torch>=1.11.0->sentence_transformers)\n",
            "  Using cached nvidia_cusolver_cu12-11.4.5.107-py3-none-manylinux1_x86_64.whl (124.2 MB)\n",
            "Collecting nvidia-cusparse-cu12==12.1.0.106 (from torch>=1.11.0->sentence_transformers)\n",
            "  Using cached nvidia_cusparse_cu12-12.1.0.106-py3-none-manylinux1_x86_64.whl (196.0 MB)\n",
            "Collecting nvidia-nccl-cu12==2.20.5 (from torch>=1.11.0->sentence_transformers)\n",
            "  Using cached nvidia_nccl_cu12-2.20.5-py3-none-manylinux2014_x86_64.whl (176.2 MB)\n",
            "Collecting nvidia-nvtx-cu12==12.1.105 (from torch>=1.11.0->sentence_transformers)\n",
            "  Using cached nvidia_nvtx_cu12-12.1.105-py3-none-manylinux1_x86_64.whl (99 kB)\n",
            "Requirement already satisfied: triton==2.3.0 in /usr/local/lib/python3.10/dist-packages (from torch>=1.11.0->sentence_transformers) (2.3.0)\n",
            "Collecting nvidia-nvjitlink-cu12 (from nvidia-cusolver-cu12==11.4.5.107->torch>=1.11.0->sentence_transformers)\n",
            "  Downloading nvidia_nvjitlink_cu12-12.5.40-py3-none-manylinux2014_x86_64.whl (21.3 MB)\n",
            "\u001b[2K     \u001b[90m━━━━━━━━━━━━━━━━━━━━━━━━━━━━━━━━━━━━━━━━\u001b[0m \u001b[32m21.3/21.3 MB\u001b[0m \u001b[31m41.0 MB/s\u001b[0m eta \u001b[36m0:00:00\u001b[0m\n",
            "\u001b[?25hRequirement already satisfied: regex!=2019.12.17 in /usr/local/lib/python3.10/dist-packages (from transformers<5.0.0,>=4.34.0->sentence_transformers) (2024.5.15)\n",
            "Requirement already satisfied: tokenizers<0.20,>=0.19 in /usr/local/lib/python3.10/dist-packages (from transformers<5.0.0,>=4.34.0->sentence_transformers) (0.19.1)\n",
            "Requirement already satisfied: safetensors>=0.4.1 in /usr/local/lib/python3.10/dist-packages (from transformers<5.0.0,>=4.34.0->sentence_transformers) (0.4.3)\n",
            "Requirement already satisfied: joblib>=1.1.1 in /usr/local/lib/python3.10/dist-packages (from scikit-learn->sentence_transformers) (1.4.2)\n",
            "Requirement already satisfied: threadpoolctl>=2.0.0 in /usr/local/lib/python3.10/dist-packages (from scikit-learn->sentence_transformers) (3.5.0)\n",
            "Requirement already satisfied: MarkupSafe>=2.0 in /usr/local/lib/python3.10/dist-packages (from jinja2->torch>=1.11.0->sentence_transformers) (2.1.5)\n",
            "Requirement already satisfied: charset-normalizer<4,>=2 in /usr/local/lib/python3.10/dist-packages (from requests->huggingface-hub>=0.15.1->sentence_transformers) (3.3.2)\n",
            "Requirement already satisfied: idna<4,>=2.5 in /usr/local/lib/python3.10/dist-packages (from requests->huggingface-hub>=0.15.1->sentence_transformers) (3.7)\n",
            "Requirement already satisfied: urllib3<3,>=1.21.1 in /usr/local/lib/python3.10/dist-packages (from requests->huggingface-hub>=0.15.1->sentence_transformers) (2.0.7)\n",
            "Requirement already satisfied: certifi>=2017.4.17 in /usr/local/lib/python3.10/dist-packages (from requests->huggingface-hub>=0.15.1->sentence_transformers) (2024.6.2)\n",
            "Requirement already satisfied: mpmath<1.4.0,>=1.1.0 in /usr/local/lib/python3.10/dist-packages (from sympy->torch>=1.11.0->sentence_transformers) (1.3.0)\n",
            "Installing collected packages: nvidia-nvtx-cu12, nvidia-nvjitlink-cu12, nvidia-nccl-cu12, nvidia-curand-cu12, nvidia-cufft-cu12, nvidia-cuda-runtime-cu12, nvidia-cuda-nvrtc-cu12, nvidia-cuda-cupti-cu12, nvidia-cublas-cu12, nvidia-cusparse-cu12, nvidia-cudnn-cu12, nvidia-cusolver-cu12, sentence_transformers\n",
            "Successfully installed nvidia-cublas-cu12-12.1.3.1 nvidia-cuda-cupti-cu12-12.1.105 nvidia-cuda-nvrtc-cu12-12.1.105 nvidia-cuda-runtime-cu12-12.1.105 nvidia-cudnn-cu12-8.9.2.26 nvidia-cufft-cu12-11.0.2.54 nvidia-curand-cu12-10.3.2.106 nvidia-cusolver-cu12-11.4.5.107 nvidia-cusparse-cu12-12.1.0.106 nvidia-nccl-cu12-2.20.5 nvidia-nvjitlink-cu12-12.5.40 nvidia-nvtx-cu12-12.1.105 sentence_transformers-3.0.1\n"
          ]
        }
      ]
    },
    {
      "cell_type": "code",
      "source": [
        "from getpass import getpass\n",
        "import os\n",
        "\n",
        "REPLICATE_API_TOKEN = getpass()\n",
        "os.environ[\"REPLICATE_API_TOKEN\"] = REPLICATE_API_TOKEN"
      ],
      "metadata": {
        "colab": {
          "base_uri": "https://localhost:8080/"
        },
        "id": "dhBnswvJGZCg",
        "outputId": "94a46b17-f09a-46f1-f772-a1caf45878d6"
      },
      "execution_count": null,
      "outputs": [
        {
          "name": "stdout",
          "output_type": "stream",
          "text": [
            "··········\n"
          ]
        }
      ]
    },
    {
      "cell_type": "code",
      "source": [
        "system_prompt =  \"\"\"مهمتك ان تساعد في الاجابة على اسئلة. سوف تعطى سؤال وسياق من ١٠ قطع مستخلصة من مستند طويل ومرتبة حسب التشابه مع السؤال. يجب عليك ان تجيب باختصار شديد على فقط اذا كان الجواب موجود في السياق. لا تجب على السؤال في حال لم يكن الجواب موجود في السياق، انما اجب \"لا ادري\" فلا تخترع اجوبة. اجب فقط بالعربية\"\"\"\n",
        "\n",
        "# system_prompt = \"\"\"\n",
        "# You are an intelligent research assistant that answers questions in Arabic based on information from Arabic texts. Your primary goal is accuracy, and you should never fabricate information or make assumptions beyond the provided context.\n",
        "\n",
        "# Task:\n",
        "\n",
        "# 1. Carefully read the Arabic question and understand the intent.\n",
        "# 2. Thoroughly analyze the provided Arabic passages (text chunks).\n",
        "# 3. If the answer is explicitly stated or logically inferred from the passages, provide an accurate and concise answer in Arabic.\n",
        "# 4. If there is insufficient information in the passages to answer the question definitively, respond with \"لا يمكنني الإجابة بناءً على المعلومات المتوفرة.($$)\" (I cannot answer based on the available information.)\n",
        "\n",
        "# Output the answer after \"Answer:\". Then any additional info after \"Note:\"\n",
        "# STRICTLY answer in Arabic only and Never speculate, make assumptions, or generate information that is not directly supported by the given passages.\n",
        "# \"\"\""
      ],
      "metadata": {
        "id": "SgqCLB92EMpq"
      },
      "execution_count": null,
      "outputs": []
    },
    {
      "cell_type": "code",
      "source": [
        "import pandas as pd\n",
        "from sentence_transformers import util\n",
        "import replicate\n",
        "\n",
        "# Function to calculate cosine similarities and retrieve sentences\n",
        "def retrieve_top_sentences(question_embedding, all_sentences_embeddings, gold_idx, k=20):\n",
        "    similarities = util.cos_sim(question_embedding, all_sentences_embeddings)\n",
        "    rank = (similarities[0] >= similarities[0, gold_idx]).sum()\n",
        "    top_k_indices = similarities[0].argsort(descending=True)[:k]\n",
        "    return df_documents.iloc[top_k_indices], rank.item()\n",
        "\n",
        "def format_prompt(question, context):\n",
        "  PROMPT = f\"السؤال:\\n{question}\\nالسياق:\\n\"\n",
        "  for i in range(len(context)):\n",
        "    PROMPT+= f\"{i+1}- {context[i]}\\n\"\n",
        "  return PROMPT\n",
        "\n",
        "def get_answer(model, prompt):\n",
        "    attempts = 0\n",
        "    max_attempts = 3\n",
        "\n",
        "    while attempts < max_attempts:\n",
        "        try:\n",
        "            response = replicate.run(\n",
        "                model,\n",
        "                input={\n",
        "                    \"prompt\": prompt,\n",
        "                    \"system_prompt\": system_prompt,\n",
        "                },\n",
        "            )\n",
        "            return \"\".join(response)\n",
        "            # answer = \"\".join(response)\n",
        "            # pattern = r\"Answer:(.*?)Note:\"\n",
        "            # match = re.search(pattern, answer, re.S)\n",
        "            # return match.group(1).strip()  # Assuming response is a list of strings that needs to be joined\n",
        "        except Exception as e:\n",
        "            print(f\"Attempt {attempts + 1} failed: {e}\")\n",
        "            attempts += 1\n",
        "            if attempts == max_attempts:\n",
        "                return \"NA\"\n"
      ],
      "metadata": {
        "id": "lqOgFAeC-NJY",
        "colab": {
          "base_uri": "https://localhost:8080/"
        },
        "outputId": "17fcb752-ed0f-45bc-9d28-e4990fa4f784"
      },
      "execution_count": null,
      "outputs": [
        {
          "output_type": "stream",
          "name": "stderr",
          "text": [
            "/usr/local/lib/python3.10/dist-packages/sentence_transformers/cross_encoder/CrossEncoder.py:11: TqdmExperimentalWarning: Using `tqdm.autonotebook.tqdm` in notebook mode. Use `tqdm.tqdm` instead to force console mode (e.g. in jupyter console)\n",
            "  from tqdm.autonotebook import tqdm, trange\n"
          ]
        }
      ]
    },
    {
      "cell_type": "code",
      "execution_count": null,
      "metadata": {
        "colab": {
          "base_uri": "https://localhost:8080/"
        },
        "id": "DEkCGAMnxev4",
        "outputId": "9f30eafd-ea07-44b7-bcaf-7e79dbf14ebc"
      },
      "outputs": [
        {
          "output_type": "stream",
          "name": "stderr",
          "text": [
            "\rProcessing Questions:   0%|          | 0/150 [00:00<?, ?it/s]/usr/local/lib/python3.10/dist-packages/sentence_transformers/util.py:33: UserWarning: Creating a tensor from a list of numpy.ndarrays is extremely slow. Please consider converting the list to a single numpy.ndarray with numpy.array() before converting to a tensor. (Triggered internally at ../torch/csrc/utils/tensor_new.cpp:274.)\n",
            "  a = torch.tensor(a)\n",
            "Processing Questions:   5%|▍         | 7/150 [00:16<05:26,  2.28s/it]"
          ]
        },
        {
          "output_type": "stream",
          "name": "stdout",
          "text": [
            "Attempt 1 failed: \n"
          ]
        },
        {
          "output_type": "stream",
          "name": "stderr",
          "text": [
            "Processing Questions:  68%|██████▊   | 102/150 [07:39<03:30,  4.39s/it]"
          ]
        },
        {
          "output_type": "stream",
          "name": "stdout",
          "text": [
            "Attempt 1 failed: \n"
          ]
        },
        {
          "output_type": "stream",
          "name": "stderr",
          "text": [
            "Processing Questions: 100%|██████████| 150/150 [10:28<00:00,  4.19s/it]\n"
          ]
        }
      ],
      "source": [
        "import numpy as np\n",
        "import ast\n",
        "from tqdm import tqdm\n",
        "\n",
        "\n",
        "# Load data\n",
        "df_questions = pd.read_csv(\"cleaned_dataset.csv\")\n",
        "df_documents = pd.read_csv(\"cleaned_document_dataset.csv\")\n",
        "\n",
        "def str_to_array(s):\n",
        "    # Using ast.literal_eval to safely evaluate the string\n",
        "    return np.array(ast.literal_eval(s))\n",
        "\n",
        "df_questions['question_formal_embedding'] = df_questions['question_formal_embedding'].apply(str_to_array)\n",
        "df_questions['question_conversational_embedding'] = df_questions['question_conversational_embedding'].apply(str_to_array)\n",
        "df_documents['embedding'] = df_documents['embedding'].apply(str_to_array)\n",
        "\n",
        "# Iterate over questions\n",
        "for idx, row in tqdm(df_questions.iterrows(), total=df_questions.shape[0], desc=\"Processing Questions\"):\n",
        "    # for question_type in [\"formal\", \"conversational\"]:\n",
        "    for question_type in [\"conversational\"]:\n",
        "        question = row[f\"question_{question_type}\"]\n",
        "        embedding = row[f\"question_{question_type}_embedding\"]\n",
        "        if np.isnan(row['chunck']):\n",
        "          true_idx = 0\n",
        "        else:\n",
        "          true_idx = int(row['chunck'])\n",
        "        # Retrieve top 20 sentences\n",
        "        top_20, rank = retrieve_top_sentences(embedding, df_documents['embedding'].tolist(), true_idx, 20)\n",
        "        context_r1 = format_prompt(question, top_20['sentence'].iloc[:10].tolist())\n",
        "        # context_r2 = format_prompt(question, top_20['sentence'].iloc[10:20].tolist())\n",
        "\n",
        "        # Calculate rank and retrieval status\n",
        "        df_questions.loc[idx, f\"{question_type}_rank\"] = rank\n",
        "        df_questions.loc[idx, f\"{question_type}_retrieved\"] = 1 if rank <= 10 else 0.5 if rank <= 20 else 0\n",
        "        # Get answers using both model versions\n",
        "        model = f\"meta/meta-llama-3-70b-instruct\"\n",
        "        answer_r1 = get_answer(model, context_r1)\n",
        "        # # answer_r2 = \"None\" if \"لا ادري\" in answer_r1 else get_answer(model, context_r2)\n",
        "\n",
        "        # # Log answers and labels\n",
        "        df_questions.loc[idx, f\"{question_type}_answer_r1\"] = answer_r1\n",
        "        # # df_questions.loc[idx, f\"{model_size}_{question_type}_answer_r2\"] = answer_r2"
      ]
    },
    {
      "cell_type": "code",
      "source": [
        "column_order = [\n",
        "    'question_formal', 'question_conversational', 'context', 'answer',\n",
        "     'conversational_retrieved', 'conversational_answer_r1', 'conversational_rank',\n",
        "    'page', 'chunck', 'question_formal_embedding', 'question_conversational_embedding'\n",
        "]\n",
        "df_questions = df_questions[column_order]\n",
        "df_questions.to_excel(\"cleaned_llama_results2.xlsx\", index=False)"
      ],
      "metadata": {
        "id": "vNqYoBlllAxV"
      },
      "execution_count": null,
      "outputs": []
    },
    {
      "cell_type": "code",
      "source": [
        "# column_order = [\n",
        "#     'question_formal', 'question_conversational', 'context', 'answer',\n",
        "#     'formal_rank', 'formal_retrieved',\n",
        "#     '70b_formal_answer_r1', '70b_formal_answer_r2',\n",
        "#     '8b_formal_answer_r1', '8b_formal_answer_r2',\n",
        "#     'conversational_rank', 'conversational_retrieved',\n",
        "#     '70b_conversational_answer_r1', '70b_conversational_answer_r2',\n",
        "#     '8b_conversational_answer_r1', '8b_conversational_answer_r2',\n",
        "#     'page', 'chunck', 'question_formal_embedding', 'question_conversational_embedding'\n",
        "# ]\n",
        "\n",
        "column_order = [\n",
        "    'question_formal', 'question_conversational', 'context', 'answer',\n",
        "     'formal_retrieved', 'formal_answer_r1', 'formal_rank',\n",
        "    'page', 'chunck', 'question_formal_embedding', 'question_conversational_embedding'\n",
        "]\n",
        "df_questions = df_questions[column_order]"
      ],
      "metadata": {
        "id": "5T_YAm12gZVN"
      },
      "execution_count": null,
      "outputs": []
    },
    {
      "cell_type": "code",
      "source": [
        "df_questions.to_csv(\"cleaned_dataset.csv\", index=False)"
      ],
      "metadata": {
        "id": "Q8aeCAkhgkYY"
      },
      "execution_count": null,
      "outputs": []
    },
    {
      "cell_type": "code",
      "source": [
        "df_questions.to_excel(\"cleaned_dataset.xlsx\", index=False)"
      ],
      "metadata": {
        "id": "Vfz1UVFim6yF"
      },
      "execution_count": null,
      "outputs": []
    },
    {
      "cell_type": "markdown",
      "source": [
        "# Improve text quality"
      ],
      "metadata": {
        "id": "b_OsLXxohsx1"
      }
    },
    {
      "cell_type": "code",
      "source": [
        "system_prompt = \"\"\"You are a skilled Arabic language expert and text editor. Your task is to refine and enhance the quality of an Arabic text chunk extracted from a document and had errors due to bad parsing. Focus on these key areas:\n",
        "\n",
        "1. Spelling and Grammar Correction:\n",
        "    * Carefully examine the text for any spelling mistakes or grammatical errors.\n",
        "    * Correct errors using appropriate Arabic grammar and spelling rules.\n",
        "\n",
        "2. Coherence and Fluency:\n",
        "    * Ensure the sentences within the chunk flow smoothly and logically.\n",
        "    * Adjust sentence structure or word choice to improve readability.\n",
        "    * Remove unnecessary repetitions or redundant information.\n",
        "\n",
        "3. Clarity and Conciseness:\n",
        "    * Make sure the text clearly conveys its intended meaning.\n",
        "    * Eliminate any ambiguity, vagueness, or text that seems random due to bad parsing.\n",
        "\n",
        "Additional Instructions:\n",
        "* Preserve the original meaning of the text while making corrections.\n",
        "* Avoid over-editing or changing the intended meaning.\n",
        "* Prioritize accuracy and clarity over stylistic embellishments.\n",
        "\n",
        "Focus on ensuring logical flow of information especially with numbers as they are usually out of place.\n",
        "Output the refined text after \"Revised:\". Then any additional info after \"Note:\"\n",
        "\"\"\"\n",
        "\n",
        "\n",
        "def get_edit(prompt):\n",
        "    try:\n",
        "        response = replicate.run(\n",
        "    \"meta/meta-llama-3-8b-instruct\",\n",
        "    input={\n",
        "        \"prompt\": prompt,\n",
        "        \"system_prompt\": system_prompt,\n",
        "    },\n",
        ")\n",
        "        return \"\".join(response)\n",
        "    except Exception as e:\n",
        "        print(e)\n",
        "        return \"NA\""
      ],
      "metadata": {
        "id": "nMbR5a57e_sw"
      },
      "execution_count": null,
      "outputs": []
    },
    {
      "cell_type": "code",
      "source": [
        "\n",
        "for idx, row in tqdm(df_documents.iterrows(), total=df_documents.shape[0], desc=\"Processing Sentences\"):\n",
        "  sentence = row[\"sentence\"]\n",
        "  c = 0\n",
        "  while c < 5:\n",
        "    c += 1\n",
        "    answer = get_edit(sentence)\n",
        "    pattern = r\"Revised:(.*?)Note:\"\n",
        "    match = re.search(pattern, answer, re.S)\n",
        "    if match:\n",
        "        text = match.group(1).strip()  # strip() removes any extra whitespace\n",
        "        c = 10\n",
        "    if c == 5:\n",
        "      print(f\"Err: {idx}\")\n",
        "      break\n",
        "  df_documents.loc[idx, \"refined_sentence\"] = text"
      ],
      "metadata": {
        "colab": {
          "base_uri": "https://localhost:8080/"
        },
        "id": "qDYplifhxHEH",
        "outputId": "6e9990df-aec7-4de0-c7f8-60d4bfdfb875"
      },
      "execution_count": null,
      "outputs": [
        {
          "output_type": "stream",
          "name": "stderr",
          "text": [
            "Processing Sentences: 100%|██████████| 514/514 [31:02<00:00,  3.62s/it]"
          ]
        },
        {
          "output_type": "stream",
          "name": "stdout",
          "text": [
            "Err: 513\n"
          ]
        },
        {
          "output_type": "stream",
          "name": "stderr",
          "text": [
            "\n"
          ]
        }
      ]
    },
    {
      "cell_type": "code",
      "source": [
        "df_documents"
      ],
      "metadata": {
        "colab": {
          "base_uri": "https://localhost:8080/",
          "height": 597
        },
        "id": "VjWcgmVz0lh6",
        "outputId": "ca2614ea-6ceb-4a3f-ea6b-2deb9eb2a66c"
      },
      "execution_count": null,
      "outputs": [
        {
          "output_type": "execute_result",
          "data": {
            "text/plain": [
              "                                              sentence  \\\n",
              "0    بيـــان\\nالميزانية العامة للدولة\\n)م2024( هـ14...   \n",
              "1                        تطورات الاقتصاد العالمي\\n15ب.   \n",
              "2      تطورات الاقتصاد المحلي\\n27\\n:القسم الثاني\\nم...   \n",
              "3        تطورات أداء المالية العامة في العام\\n36م و...   \n",
              "4           ميزانية عام\\n43م على مستوى القطاعات2024 ج.   \n",
              "..                                                 ...   \n",
              "509  العوامل الإيجابية\\nعلــى الرغـم مـن اسـتمرار ح...   \n",
              "510  ممــا يحفــز أســواق الاســتثمار ويحافــظ \\nعل...   \n",
              "511  \\nم علــى الموازنــة بيــن الحفــاظ علــى اســ...   \n",
              "512  وعمـل صنـدوق الاســتثمارات العامـة 2023\\n علــ...   \n",
              "513                                                 \\n   \n",
              "\n",
              "                                             embedding  \\\n",
              "0    [0.024268262088298798, 0.008252768777310848, 0...   \n",
              "1    [0.008082271553575993, 0.014534637331962585, -...   \n",
              "2    [0.03123318962752819, -0.005314670968800783, -...   \n",
              "3    [0.013291748240590096, 0.008054817095398903, -...   \n",
              "4    [-0.005651162937283516, 0.0024492705706506968,...   \n",
              "..                                                 ...   \n",
              "509  [0.013357712887227535, -0.0016816002316772938,...   \n",
              "510  [0.00914826337248087, -0.0192567128688097, -0....   \n",
              "511  [3.37085803039372e-05, -0.0014684725319966674,...   \n",
              "512  [0.016185462474822998, -0.0026623045559972525,...   \n",
              "513  [0.008210554718971252, -0.015223308466374874, ...   \n",
              "\n",
              "                                      refined_sentence  \n",
              "0    بيان الميزانية العامة للدولة\\nم 2024 هـ 1446 -...  \n",
              "1                              تطورات الاقتصاد العالمي  \n",
              "2    تطورات الاقتصاد المحلي\\n:القسم الثاني\\nمواليد2...  \n",
              "3    تطورات أداء المالية العامة في العام 2016 وتقدي...  \n",
              "4        ميزانية عام 2024 على مستوى القطاعات 43 مليار.  \n",
              "..                                                 ...  \n",
              "509  العوامل الإيجابية\\nعلى الرغم من استمرار حالة ع...  \n",
              "510  ما يُحفز أسواق الاستثمار ويحافظ على معادلات ال...  \n",
              "511  يتعاظم واهمية التوازن بين الحفاظ على استدامة ا...  \n",
              "512  وعمل صندوق الاستثمارات العامة 2023 على الاستثم...  \n",
              "513  وعمل صندوق الاستثمارات العامة 2023 على الاستثم...  \n",
              "\n",
              "[514 rows x 3 columns]"
            ],
            "text/html": [
              "\n",
              "  <div id=\"df-bcf9dcfa-814d-4e61-b533-37df74e267b0\" class=\"colab-df-container\">\n",
              "    <div>\n",
              "<style scoped>\n",
              "    .dataframe tbody tr th:only-of-type {\n",
              "        vertical-align: middle;\n",
              "    }\n",
              "\n",
              "    .dataframe tbody tr th {\n",
              "        vertical-align: top;\n",
              "    }\n",
              "\n",
              "    .dataframe thead th {\n",
              "        text-align: right;\n",
              "    }\n",
              "</style>\n",
              "<table border=\"1\" class=\"dataframe\">\n",
              "  <thead>\n",
              "    <tr style=\"text-align: right;\">\n",
              "      <th></th>\n",
              "      <th>sentence</th>\n",
              "      <th>embedding</th>\n",
              "      <th>refined_sentence</th>\n",
              "    </tr>\n",
              "  </thead>\n",
              "  <tbody>\n",
              "    <tr>\n",
              "      <th>0</th>\n",
              "      <td>بيـــان\\nالميزانية العامة للدولة\\n)م2024( هـ14...</td>\n",
              "      <td>[0.024268262088298798, 0.008252768777310848, 0...</td>\n",
              "      <td>بيان الميزانية العامة للدولة\\nم 2024 هـ 1446 -...</td>\n",
              "    </tr>\n",
              "    <tr>\n",
              "      <th>1</th>\n",
              "      <td>تطورات الاقتصاد العالمي\\n15ب.</td>\n",
              "      <td>[0.008082271553575993, 0.014534637331962585, -...</td>\n",
              "      <td>تطورات الاقتصاد العالمي</td>\n",
              "    </tr>\n",
              "    <tr>\n",
              "      <th>2</th>\n",
              "      <td>تطورات الاقتصاد المحلي\\n27\\n:القسم الثاني\\nم...</td>\n",
              "      <td>[0.03123318962752819, -0.005314670968800783, -...</td>\n",
              "      <td>تطورات الاقتصاد المحلي\\n:القسم الثاني\\nمواليد2...</td>\n",
              "    </tr>\n",
              "    <tr>\n",
              "      <th>3</th>\n",
              "      <td>تطورات أداء المالية العامة في العام\\n36م و...</td>\n",
              "      <td>[0.013291748240590096, 0.008054817095398903, -...</td>\n",
              "      <td>تطورات أداء المالية العامة في العام 2016 وتقدي...</td>\n",
              "    </tr>\n",
              "    <tr>\n",
              "      <th>4</th>\n",
              "      <td>ميزانية عام\\n43م على مستوى القطاعات2024 ج.</td>\n",
              "      <td>[-0.005651162937283516, 0.0024492705706506968,...</td>\n",
              "      <td>ميزانية عام 2024 على مستوى القطاعات 43 مليار.</td>\n",
              "    </tr>\n",
              "    <tr>\n",
              "      <th>...</th>\n",
              "      <td>...</td>\n",
              "      <td>...</td>\n",
              "      <td>...</td>\n",
              "    </tr>\n",
              "    <tr>\n",
              "      <th>509</th>\n",
              "      <td>العوامل الإيجابية\\nعلــى الرغـم مـن اسـتمرار ح...</td>\n",
              "      <td>[0.013357712887227535, -0.0016816002316772938,...</td>\n",
              "      <td>العوامل الإيجابية\\nعلى الرغم من استمرار حالة ع...</td>\n",
              "    </tr>\n",
              "    <tr>\n",
              "      <th>510</th>\n",
              "      <td>ممــا يحفــز أســواق الاســتثمار ويحافــظ \\nعل...</td>\n",
              "      <td>[0.00914826337248087, -0.0192567128688097, -0....</td>\n",
              "      <td>ما يُحفز أسواق الاستثمار ويحافظ على معادلات ال...</td>\n",
              "    </tr>\n",
              "    <tr>\n",
              "      <th>511</th>\n",
              "      <td>\\nم علــى الموازنــة بيــن الحفــاظ علــى اســ...</td>\n",
              "      <td>[3.37085803039372e-05, -0.0014684725319966674,...</td>\n",
              "      <td>يتعاظم واهمية التوازن بين الحفاظ على استدامة ا...</td>\n",
              "    </tr>\n",
              "    <tr>\n",
              "      <th>512</th>\n",
              "      <td>وعمـل صنـدوق الاســتثمارات العامـة 2023\\n علــ...</td>\n",
              "      <td>[0.016185462474822998, -0.0026623045559972525,...</td>\n",
              "      <td>وعمل صندوق الاستثمارات العامة 2023 على الاستثم...</td>\n",
              "    </tr>\n",
              "    <tr>\n",
              "      <th>513</th>\n",
              "      <td>\\n</td>\n",
              "      <td>[0.008210554718971252, -0.015223308466374874, ...</td>\n",
              "      <td>وعمل صندوق الاستثمارات العامة 2023 على الاستثم...</td>\n",
              "    </tr>\n",
              "  </tbody>\n",
              "</table>\n",
              "<p>514 rows × 3 columns</p>\n",
              "</div>\n",
              "    <div class=\"colab-df-buttons\">\n",
              "\n",
              "  <div class=\"colab-df-container\">\n",
              "    <button class=\"colab-df-convert\" onclick=\"convertToInteractive('df-bcf9dcfa-814d-4e61-b533-37df74e267b0')\"\n",
              "            title=\"Convert this dataframe to an interactive table.\"\n",
              "            style=\"display:none;\">\n",
              "\n",
              "  <svg xmlns=\"http://www.w3.org/2000/svg\" height=\"24px\" viewBox=\"0 -960 960 960\">\n",
              "    <path d=\"M120-120v-720h720v720H120Zm60-500h600v-160H180v160Zm220 220h160v-160H400v160Zm0 220h160v-160H400v160ZM180-400h160v-160H180v160Zm440 0h160v-160H620v160ZM180-180h160v-160H180v160Zm440 0h160v-160H620v160Z\"/>\n",
              "  </svg>\n",
              "    </button>\n",
              "\n",
              "  <style>\n",
              "    .colab-df-container {\n",
              "      display:flex;\n",
              "      gap: 12px;\n",
              "    }\n",
              "\n",
              "    .colab-df-convert {\n",
              "      background-color: #E8F0FE;\n",
              "      border: none;\n",
              "      border-radius: 50%;\n",
              "      cursor: pointer;\n",
              "      display: none;\n",
              "      fill: #1967D2;\n",
              "      height: 32px;\n",
              "      padding: 0 0 0 0;\n",
              "      width: 32px;\n",
              "    }\n",
              "\n",
              "    .colab-df-convert:hover {\n",
              "      background-color: #E2EBFA;\n",
              "      box-shadow: 0px 1px 2px rgba(60, 64, 67, 0.3), 0px 1px 3px 1px rgba(60, 64, 67, 0.15);\n",
              "      fill: #174EA6;\n",
              "    }\n",
              "\n",
              "    .colab-df-buttons div {\n",
              "      margin-bottom: 4px;\n",
              "    }\n",
              "\n",
              "    [theme=dark] .colab-df-convert {\n",
              "      background-color: #3B4455;\n",
              "      fill: #D2E3FC;\n",
              "    }\n",
              "\n",
              "    [theme=dark] .colab-df-convert:hover {\n",
              "      background-color: #434B5C;\n",
              "      box-shadow: 0px 1px 3px 1px rgba(0, 0, 0, 0.15);\n",
              "      filter: drop-shadow(0px 1px 2px rgba(0, 0, 0, 0.3));\n",
              "      fill: #FFFFFF;\n",
              "    }\n",
              "  </style>\n",
              "\n",
              "    <script>\n",
              "      const buttonEl =\n",
              "        document.querySelector('#df-bcf9dcfa-814d-4e61-b533-37df74e267b0 button.colab-df-convert');\n",
              "      buttonEl.style.display =\n",
              "        google.colab.kernel.accessAllowed ? 'block' : 'none';\n",
              "\n",
              "      async function convertToInteractive(key) {\n",
              "        const element = document.querySelector('#df-bcf9dcfa-814d-4e61-b533-37df74e267b0');\n",
              "        const dataTable =\n",
              "          await google.colab.kernel.invokeFunction('convertToInteractive',\n",
              "                                                    [key], {});\n",
              "        if (!dataTable) return;\n",
              "\n",
              "        const docLinkHtml = 'Like what you see? Visit the ' +\n",
              "          '<a target=\"_blank\" href=https://colab.research.google.com/notebooks/data_table.ipynb>data table notebook</a>'\n",
              "          + ' to learn more about interactive tables.';\n",
              "        element.innerHTML = '';\n",
              "        dataTable['output_type'] = 'display_data';\n",
              "        await google.colab.output.renderOutput(dataTable, element);\n",
              "        const docLink = document.createElement('div');\n",
              "        docLink.innerHTML = docLinkHtml;\n",
              "        element.appendChild(docLink);\n",
              "      }\n",
              "    </script>\n",
              "  </div>\n",
              "\n",
              "\n",
              "<div id=\"df-0f0ce4ae-aa30-40d8-8e40-9d032f0f8b56\">\n",
              "  <button class=\"colab-df-quickchart\" onclick=\"quickchart('df-0f0ce4ae-aa30-40d8-8e40-9d032f0f8b56')\"\n",
              "            title=\"Suggest charts\"\n",
              "            style=\"display:none;\">\n",
              "\n",
              "<svg xmlns=\"http://www.w3.org/2000/svg\" height=\"24px\"viewBox=\"0 0 24 24\"\n",
              "     width=\"24px\">\n",
              "    <g>\n",
              "        <path d=\"M19 3H5c-1.1 0-2 .9-2 2v14c0 1.1.9 2 2 2h14c1.1 0 2-.9 2-2V5c0-1.1-.9-2-2-2zM9 17H7v-7h2v7zm4 0h-2V7h2v10zm4 0h-2v-4h2v4z\"/>\n",
              "    </g>\n",
              "</svg>\n",
              "  </button>\n",
              "\n",
              "<style>\n",
              "  .colab-df-quickchart {\n",
              "      --bg-color: #E8F0FE;\n",
              "      --fill-color: #1967D2;\n",
              "      --hover-bg-color: #E2EBFA;\n",
              "      --hover-fill-color: #174EA6;\n",
              "      --disabled-fill-color: #AAA;\n",
              "      --disabled-bg-color: #DDD;\n",
              "  }\n",
              "\n",
              "  [theme=dark] .colab-df-quickchart {\n",
              "      --bg-color: #3B4455;\n",
              "      --fill-color: #D2E3FC;\n",
              "      --hover-bg-color: #434B5C;\n",
              "      --hover-fill-color: #FFFFFF;\n",
              "      --disabled-bg-color: #3B4455;\n",
              "      --disabled-fill-color: #666;\n",
              "  }\n",
              "\n",
              "  .colab-df-quickchart {\n",
              "    background-color: var(--bg-color);\n",
              "    border: none;\n",
              "    border-radius: 50%;\n",
              "    cursor: pointer;\n",
              "    display: none;\n",
              "    fill: var(--fill-color);\n",
              "    height: 32px;\n",
              "    padding: 0;\n",
              "    width: 32px;\n",
              "  }\n",
              "\n",
              "  .colab-df-quickchart:hover {\n",
              "    background-color: var(--hover-bg-color);\n",
              "    box-shadow: 0 1px 2px rgba(60, 64, 67, 0.3), 0 1px 3px 1px rgba(60, 64, 67, 0.15);\n",
              "    fill: var(--button-hover-fill-color);\n",
              "  }\n",
              "\n",
              "  .colab-df-quickchart-complete:disabled,\n",
              "  .colab-df-quickchart-complete:disabled:hover {\n",
              "    background-color: var(--disabled-bg-color);\n",
              "    fill: var(--disabled-fill-color);\n",
              "    box-shadow: none;\n",
              "  }\n",
              "\n",
              "  .colab-df-spinner {\n",
              "    border: 2px solid var(--fill-color);\n",
              "    border-color: transparent;\n",
              "    border-bottom-color: var(--fill-color);\n",
              "    animation:\n",
              "      spin 1s steps(1) infinite;\n",
              "  }\n",
              "\n",
              "  @keyframes spin {\n",
              "    0% {\n",
              "      border-color: transparent;\n",
              "      border-bottom-color: var(--fill-color);\n",
              "      border-left-color: var(--fill-color);\n",
              "    }\n",
              "    20% {\n",
              "      border-color: transparent;\n",
              "      border-left-color: var(--fill-color);\n",
              "      border-top-color: var(--fill-color);\n",
              "    }\n",
              "    30% {\n",
              "      border-color: transparent;\n",
              "      border-left-color: var(--fill-color);\n",
              "      border-top-color: var(--fill-color);\n",
              "      border-right-color: var(--fill-color);\n",
              "    }\n",
              "    40% {\n",
              "      border-color: transparent;\n",
              "      border-right-color: var(--fill-color);\n",
              "      border-top-color: var(--fill-color);\n",
              "    }\n",
              "    60% {\n",
              "      border-color: transparent;\n",
              "      border-right-color: var(--fill-color);\n",
              "    }\n",
              "    80% {\n",
              "      border-color: transparent;\n",
              "      border-right-color: var(--fill-color);\n",
              "      border-bottom-color: var(--fill-color);\n",
              "    }\n",
              "    90% {\n",
              "      border-color: transparent;\n",
              "      border-bottom-color: var(--fill-color);\n",
              "    }\n",
              "  }\n",
              "</style>\n",
              "\n",
              "  <script>\n",
              "    async function quickchart(key) {\n",
              "      const quickchartButtonEl =\n",
              "        document.querySelector('#' + key + ' button');\n",
              "      quickchartButtonEl.disabled = true;  // To prevent multiple clicks.\n",
              "      quickchartButtonEl.classList.add('colab-df-spinner');\n",
              "      try {\n",
              "        const charts = await google.colab.kernel.invokeFunction(\n",
              "            'suggestCharts', [key], {});\n",
              "      } catch (error) {\n",
              "        console.error('Error during call to suggestCharts:', error);\n",
              "      }\n",
              "      quickchartButtonEl.classList.remove('colab-df-spinner');\n",
              "      quickchartButtonEl.classList.add('colab-df-quickchart-complete');\n",
              "    }\n",
              "    (() => {\n",
              "      let quickchartButtonEl =\n",
              "        document.querySelector('#df-0f0ce4ae-aa30-40d8-8e40-9d032f0f8b56 button');\n",
              "      quickchartButtonEl.style.display =\n",
              "        google.colab.kernel.accessAllowed ? 'block' : 'none';\n",
              "    })();\n",
              "  </script>\n",
              "</div>\n",
              "\n",
              "  <div id=\"id_cc7fc2e1-eb6d-4e0c-9975-31483166380f\">\n",
              "    <style>\n",
              "      .colab-df-generate {\n",
              "        background-color: #E8F0FE;\n",
              "        border: none;\n",
              "        border-radius: 50%;\n",
              "        cursor: pointer;\n",
              "        display: none;\n",
              "        fill: #1967D2;\n",
              "        height: 32px;\n",
              "        padding: 0 0 0 0;\n",
              "        width: 32px;\n",
              "      }\n",
              "\n",
              "      .colab-df-generate:hover {\n",
              "        background-color: #E2EBFA;\n",
              "        box-shadow: 0px 1px 2px rgba(60, 64, 67, 0.3), 0px 1px 3px 1px rgba(60, 64, 67, 0.15);\n",
              "        fill: #174EA6;\n",
              "      }\n",
              "\n",
              "      [theme=dark] .colab-df-generate {\n",
              "        background-color: #3B4455;\n",
              "        fill: #D2E3FC;\n",
              "      }\n",
              "\n",
              "      [theme=dark] .colab-df-generate:hover {\n",
              "        background-color: #434B5C;\n",
              "        box-shadow: 0px 1px 3px 1px rgba(0, 0, 0, 0.15);\n",
              "        filter: drop-shadow(0px 1px 2px rgba(0, 0, 0, 0.3));\n",
              "        fill: #FFFFFF;\n",
              "      }\n",
              "    </style>\n",
              "    <button class=\"colab-df-generate\" onclick=\"generateWithVariable('df_documents')\"\n",
              "            title=\"Generate code using this dataframe.\"\n",
              "            style=\"display:none;\">\n",
              "\n",
              "  <svg xmlns=\"http://www.w3.org/2000/svg\" height=\"24px\"viewBox=\"0 0 24 24\"\n",
              "       width=\"24px\">\n",
              "    <path d=\"M7,19H8.4L18.45,9,17,7.55,7,17.6ZM5,21V16.75L18.45,3.32a2,2,0,0,1,2.83,0l1.4,1.43a1.91,1.91,0,0,1,.58,1.4,1.91,1.91,0,0,1-.58,1.4L9.25,21ZM18.45,9,17,7.55Zm-12,3A5.31,5.31,0,0,0,4.9,8.1,5.31,5.31,0,0,0,1,6.5,5.31,5.31,0,0,0,4.9,4.9,5.31,5.31,0,0,0,6.5,1,5.31,5.31,0,0,0,8.1,4.9,5.31,5.31,0,0,0,12,6.5,5.46,5.46,0,0,0,6.5,12Z\"/>\n",
              "  </svg>\n",
              "    </button>\n",
              "    <script>\n",
              "      (() => {\n",
              "      const buttonEl =\n",
              "        document.querySelector('#id_cc7fc2e1-eb6d-4e0c-9975-31483166380f button.colab-df-generate');\n",
              "      buttonEl.style.display =\n",
              "        google.colab.kernel.accessAllowed ? 'block' : 'none';\n",
              "\n",
              "      buttonEl.onclick = () => {\n",
              "        google.colab.notebook.generateWithVariable('df_documents');\n",
              "      }\n",
              "      })();\n",
              "    </script>\n",
              "  </div>\n",
              "\n",
              "    </div>\n",
              "  </div>\n"
            ],
            "application/vnd.google.colaboratory.intrinsic+json": {
              "type": "dataframe",
              "variable_name": "df_documents",
              "summary": "{\n  \"name\": \"df_documents\",\n  \"rows\": 514,\n  \"fields\": [\n    {\n      \"column\": \"sentence\",\n      \"properties\": {\n        \"dtype\": \"string\",\n        \"num_unique_values\": 514,\n        \"samples\": [\n          \"\\n\\u0625\\u0637\\u0640\\u0640\\u0627\\u0642 \\u0627\\u0644\\u062a\\u062d\\u0627\\u0644\\u0640\\u0640\\u0641 \\u0627\\u0644\\u0633\\u0640\\u0640\\u0639\\u0648\\u062f\\u064a \\u0644\\u062a\\u0642\\u0646\\u064a\\u0640\\u0640\\u0627\\u062a \\u0627\\u0644\\u063a\\u0640\\u0640\\u0630\\u0627\\u0621 \\u0648\\u0627\\u0644\\u0632\\u0631\\u0627\\u0639\\u0640\\u0640\\u0629 \\u0644\\u0644\\u0645\\u0633\\u0640\\u0640\\u0627\\u0647\\u0645\\u0629 \\u0641\\u0640\\u0640\\u064a \\u062a\\u0648\\u0637\\u064a\\u0640\\u0640\\u0646 \\u0627\\u0644\\u062a\\u0642\\u0646\\u064a\\u0640\\u0640\\u0627\\u062a \\n\\u0627\\u0644\\u0632\\u0631\\u0627\\u0639\\u064a\\u0640\\u0640\\u0629 \\u0648\\u0625\\u064a\\u062c\\u0640\\u0640\\u0627\\u062f \\u0627\\u0644\\u062d\\u0644\\u0640\\u0640\\u0648\\u0644 \\u0627\\u0644\\u0646\\u0648\\u0639\\u064a\\u0640\\u0640\\u0629 \\u0648\\u062a\\u0641\\u0639\\u064a\\u0640\\u0640\\u0644 \\u0627\\u0644\\u062a\\u0639\\u0640\\u0640\\u0627\\u0648\\u0646 \\u0628\\u064a\\u0640\\u0640\\u0646 \\u0627\\u0644\\u062c\\u0647\\u0640\\u0640\\u0627\\u062a \\u0630\\u0627\\u062a \\u0627\\u0644\\u0639\\u0627\\u0644\\u0642\\u0640\\u0640\\u0629.\",\n          \"\\u0643\\u0645\\u0640\\u0640\\u0627 \\u062a\\u0633\\u0640\\u0640\\u0639\\u0649 \\u0627\\u0644\\u0645\\u0645\\u0644\\u0643\\u0640\\u0629 \\u0625\\u0644\\u0640\\u0649 \\u0632\\u064a\\u0640\\u0627\\u062f\\u0629 \\u0627\\u0644\\u0645\\u0633\\u0640\\u0640\\u0627\\u062d\\u0629 \\u0627\\u0644\\u0645\\u0627\\u0644\\u064a\\u0640\\u0629 \\u0639\\u0628\\u0640\\u0631 \\u0628\\u0646\\u0640\\u0627\\u0621 \\n\\u0627\\u0644\\u0627\\u062d\\u062a\\u064a\\u0627\\u0637\\u064a\\u0640\\u0640\\u0627\\u062a \\u0627\\u0644\\u062d\\u0643\\u0648\\u0645\\u064a\\u0640\\u0640\\u0629 \\u0648\\u0627\\u0644\\u0645\\u062d\\u0627\\u0641\\u0638\\u0640\\u0640\\u0629 \\u0639\\u0644\\u0640\\u0640\\u0649 \\u0645\\u0633\\u0640\\u0640\\u062a\\u0648\\u064a\\u0627\\u062a \\u0645\\u0633\\u0640\\u0640\\u062a\\u062f\\u0627\\u0645\\u0629 \\u0644\\u0644\\u062f\\u064a\\u0640\\u0640\\u0646 \\u0627\\u0644\\u0639\\u0640\\u0640\\u0627\\u0645.\",\n          \"\\u0648\\u064a\\u0647\\u0640\\u0640\\u062f\\u0641 \\u0627\\u0644\\u0627\\u0633\\u0640\\u062a\\u062b\\u0645\\u0627\\u0631 \\u0625\\u0644\\u0640\\u0649 \\u062e\\u0644\\u0640\\u0642 \\u0648\\u062a\\u0637\\u0648\\u064a\\u0640\\u0631 \\u0635\\u0646\\u0627\\u0639\\u0640\\u0629 \\u0633\\u0640\\u0640\\u0639\\u0648\\u062f\\u064a\\u0629 \\u0641\\u0640\\u064a \\u0645\\u062c\\u0640\\u0627\\u0644 \\u062a\\u0646\\u0638\\u064a\\u0640\\u0640\\u0645 \\u0627\\u0644\\u0645\\u0639\\u0640\\u0627\\u0631\\u0636 \\n\\u0648\\u0627\\u0644\\u0645\\u0624\\u062a\\u0645\\u0640\\u0640\\u0631\\u0627\\u062a \\u0648\\u0627\\u0644\\u0641\\u0639\\u0627\\u0644\\u064a\\u0640\\u0627\\u062a \\u0639\\u0640\\u0646 \\u0637\\u0631\\u064a\\u0640\\u0640\\u0642 \\u0627\\u0633\\u0640\\u062a\\u0636\\u0627\\u0641\\u0629 \\u0641\\u0639\\u0627\\u0644\\u064a\\u0640\\u0627\\u062a \\u0639\\u0627\\u0644\\u0645\\u064a\\u0640\\u0629 \\u0642\\u0627\\u0626\\u0645\\u0640\\u0629 \\u0641\\u0640\\u064a \\u0627\\u0644\\u0633\\u0640\\u0640\\u0639\\u0648\\u062f\\u064a\\u0629 \\u0648\\u0641\\u0639\\u0627\\u0644\\u064a\\u0640\\u0627\\u062a \\n\\u062a\\u0640\\u0645 \\u0625\\u0646\\u0634\\u0640\\u0640\\u0627\\u0624\\u0647\\u0627 \\u0648\\u062a\\u0637\\u0648\\u064a\\u0640\\u0631 \\u0641\\u0643\\u0631\\u062a\\u0647\\u0640\\u0640\\u0627 \\u0641\\u0640\\u0640\\u064a \\u0627\\u0644\\u0633\\u0640\\u0639\\u0648\\u062f\\u064a\\u0629.\"\n        ],\n        \"semantic_type\": \"\",\n        \"description\": \"\"\n      }\n    },\n    {\n      \"column\": \"embedding\",\n      \"properties\": {\n        \"dtype\": \"object\",\n        \"semantic_type\": \"\",\n        \"description\": \"\"\n      }\n    },\n    {\n      \"column\": \"refined_sentence\",\n      \"properties\": {\n        \"dtype\": \"string\",\n        \"num_unique_values\": 513,\n        \"samples\": [\n          \"\\u0627\\u0644\\u0645\\u0631\\u0643\\u0632 \\u0627\\u0644\\u0633\\u0639\\u0648\\u062f\\u064a \\u0644\\u062a\\u0642\\u0646\\u064a\\u0627\\u062a \\u0627\\u0644\\u063a\\u0630\\u0627\\u0621 \\u0648\\u0627\\u0644\\u0632\\u0631\\u0627\\u0639\\u0629 \\u064a\\u0634\\u0627\\u0631\\u0643 \\u0641\\u064a \\u062a\\u062d\\u0642\\u064a\\u0642 \\u0627\\u0644\\u062a\\u0648\\u0627\\u0632\\u0646 \\u0641\\u064a \\u0627\\u0644\\u062a\\u0642\\u0646\\u064a\\u0627\\u062a \\u0627\\u0644\\u0632\\u0631\\u0627\\u0639\\u064a\\u0629 \\u0648\\u0625\\u064a\\u062c\\u0627\\u062f \\u0627\\u0644\\u062d\\u0644\\u0648\\u0644 \\u0627\\u0644\\u0646\\u0648\\u0639\\u064a\\u0629 \\u0648\\u062a\\u0641\\u0639\\u064a\\u0644 \\u0627\\u0644\\u062a\\u0639\\u0627\\u0648\\u0646 \\u0628\\u064a\\u0646 \\u0627\\u0644\\u062c\\u0647\\u0627\\u062a \\u0630\\u0627\\u062a \\u0627\\u0644\\u0639\\u0644\\u0627\\u0642\\u0629.\",\n          \"2023 \\u0645\\u0644\\u064a\\u0648\\u0646 \\u0628\\u0631\\u0645\\u064a\\u0644/\\u064a\\u0648\\u0645\\u064a\\u0627\\u0641\\u0641\\u064a \\u0639\\u0645\\u0627\\u064b 2.5 \\u062d\\u0648\\u0627\\u0644\\u064b\\n\\u0644\\u062a\\u062e\\u0641\\u064a\\u0641 \\u0627\\u0644\\u0622\\u062b\\u0627\\u0631 \\u0627\\u0644\\u0633\\u0644\\u0628\\u064a\\u0629 \\u0627\\u0644\\u0645\\u0635\\u0627\\u062d\\u0628\\u0629 \\u0644\\u0635\\u062f\\u0645\\u0627\\u062a \\u0623\\u0633\\u0648\\u0627\\u0642 \\u0627\\u0644\\u0628\\u062a\\u0631\\u0648\\u0644\\u060c \\u0627\\u062a\\u062e\\u0630\\u062a \\u0627\\u0644\\u0645\\u0645\\u0644\\u0643\\u0629 \\u0633\\u064a\\u0627\\u0633\\u0627\\u062a \\u0645\\u0627\\u0644\\u064a\\u0629 \\u0645\\u0633\\u062a\\u062f\\u0627\\u0645\\u0629 \\u0639\\u0628\\u0631 \\u062a\\u0646\\u0645\\u064a\\u0629 \\u0627\\u0644\\u0625\\u064a\\u0631\\u0627\\u062f\\u0627\\u062a \\u063a\\u064a\\u0631 \\u0627\\u0644\\u0646\\u0641\\u0637\\u064a\\u0629\\u060c \\u0645\\u0639 \\u0627\\u0633\\u062a\\u0647\\u062f\\u0627\\u0641 \\u0627\\u0644\\u062a\\u062d\\u0648\\u0644 \\u0641\\u064a \\u0639\\u0645\\u0644\\u064a\\u0627\\u062a \\u0627\\u062d\\u062a\\u0633\\u0627\\u0628 \\u0627\\u0644\\u0625\\u064a\\u0631\\u0627\\u062f\\u0627\\u062a \\u0627\\u0644\\u0646\\u0641\\u0637\\u064a\\u0629 \\u0625\\u0644\\u0649 \\u0627\\u0644\\u0625\\u064a\\u0631\\u0627\\u062f\\u0627\\u062a \\u0627\\u0644\\u0647\\u064a\\u0643\\u0644\\u064a\\u0629\\u061b \\u0645\\u0645\\u0627 \\u064a\\u0633\\u0647\\u0645 \\u0641\\u064a \\u0628\\u0646\\u0627\\u0621 \\u0623\\u0633\\u0633 \\u0625\\u0646\\u0641\\u0627\\u0642 \\u0623\\u0643\\u062b\\u0631 \\u0627\\u0633\\u062a\\u0642\\u0631\\u0627\\u0631\\u0627\\u064b \\u063a\\u064a\\u0631 \\u0645\\u0633\\u0627\\u064a\\u0631\\u0629 \\u0644\\u062a\\u0630\\u0628\\u0630\\u0628\\u0627\\u062a \\u0623\\u0633\\u0639\\u0627\\u0631 \\u0627\\u0644\\u0628\\u062a\\u0631\\u0648\\u0644.\",\n          \"\\u0648\\u0647\\u064a \\u0639\\u0628\\u0627\\u0631\\u0629 \\u0639\\u0646 \\u0634\\u0631\\u0627\\u0643\\u0629 \\u0628\\u064a\\u0646 \\u0627\\u0644\\u0635\\u0646\\u0627\\u062f\\u0642 \\u0648\\u0627\\u0644\\u0627\\u062a\\u062d\\u0627\\u062f \\u0627\\u0644\\u0633\\u0639\\u0648\\u062f\\u064a \\u0644\\u0644\\u0623\\u0645\\u0646 \\u0627\\u0644\\u0633\\u064a\\u0628\\u0631\\u0627\\u0646\\u064a\\u060c 1990\\u060c \\u0648\\u0627\\u0644\\u0628\\u0631\\u0645\\u062c\\u064a\\u0629 \\u0648\\u0627\\u0644\\u062f\\u0631\\u0648\\u0646\\u0632 \\u0645\\u0646 \\u0627\\u0644\\u062c\\u0627\\u0646\\u0628 \\u0627\\u0644\\u0633\\u0639\\u0648\\u062f\\u064a\\u060c \\u0648\\u0634\\u0631\\u064a\\u0643\\u0627\\u064b \\u0639\\u0627\\u0644\\u0645\\u064a\\u0627\\u064b \\u0641\\u064a \\u0645\\u062c\\u0627\\u0644 \\u062a\\u0646\\u0638\\u064a\\u0645 \\u0627\\u0644\\u0645\\u0639\\u0627\\u0631\\u0636 \\u0648\\u0627\\u0644\\u0645\\u0624\\u062a\\u0645\\u0631\\u0627\\u062a.\"\n        ],\n        \"semantic_type\": \"\",\n        \"description\": \"\"\n      }\n    }\n  ]\n}"
            }
          },
          "metadata": {},
          "execution_count": 126
        }
      ]
    },
    {
      "cell_type": "code",
      "source": [
        "df_documents.to_csv(\"document_dataset_refined.csv\", index=False)"
      ],
      "metadata": {
        "id": "9nXabwZEt5-c"
      },
      "execution_count": null,
      "outputs": []
    },
    {
      "cell_type": "code",
      "source": [
        "import re\n",
        "\n",
        "def extract_chunk(text):\n",
        "    # Define the pattern to find the text between \"Revised:\" and \"Note:\"\n",
        "    pattern = r\"Revised:(.*?)Note:\"\n",
        "    match = re.search(pattern, text, re.S)\n",
        "    if match:\n",
        "        return match.group(1).strip()  # strip() removes any extra whitespace\n",
        "    else:\n",
        "        print(\"wrong\")\n",
        "\n",
        "# Example usage\n",
        "print(extract_chunk(answer))  # This should print the text between \"Revised:\" and \"Note:\"\n",
        "\n",
        "# Example when the keywords are missing or not in order\n",
        "text2 = \"This document lacks proper markers. Note: Here's a note without a revision.\"\n",
        "extract_chunk(text2)  # This should print \"wrong\"\n"
      ],
      "metadata": {
        "colab": {
          "base_uri": "https://localhost:8080/"
        },
        "id": "wPT501SpgfnN",
        "outputId": "2aed1596-5f0e-4c24-8e82-6418c64aa4eb"
      },
      "execution_count": null,
      "outputs": [
        {
          "output_type": "stream",
          "name": "stdout",
          "text": [
            "بيان الميزانية العامة للدولة\n",
            "م2024 هـ1446 - 1445 للعام المالي\n",
            "\n",
            "مقدمة\n",
            "الفهرس\n",
            "\n",
            "الملخص التنفيذي لإلطار المالي والاقتصادي للميزانية\n",
            "\n",
            "القسم الأول: التطورات والآفاق الاقتصادية لعام 2024\n",
            "م ومدى المتوسط 2024\n",
            "wrong\n"
          ]
        }
      ]
    },
    {
      "cell_type": "code",
      "source": [],
      "metadata": {
        "id": "BaGPM8udsARv"
      },
      "execution_count": null,
      "outputs": []
    }
  ]
}